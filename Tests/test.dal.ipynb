{
 "cells": [
  {
   "cell_type": "markdown",
   "id": "937f7914-dba5-44c8-8860-8043fac03bc7",
   "metadata": {},
   "source": [
    "# Módulo DAL - \"data access layer\""
   ]
  },
  {
   "cell_type": "code",
   "execution_count": 3,
   "id": "7e5c3cec-2b5c-43c3-a4b5-e61f81a3915f",
   "metadata": {},
   "outputs": [],
   "source": [
    "import sqlite3 as sql"
   ]
  },
  {
   "cell_type": "code",
   "execution_count": 7,
   "id": "369c4908-8c80-4e90-84e1-4016a4c105c7",
   "metadata": {},
   "outputs": [],
   "source": [
    "# função para criar o banco de dados e a tabela\n",
    "\n",
    "conn = sql.connect(\"Agenda.db\")\n",
    "conn.cursor()\n",
    "\n",
    "conn.execute(\"\"\"CREATE TABLE Contatos_teste(\n",
    "    id INTEGER NOT NULL PRIMARY KEY AUTOINCREMENT,\n",
    "    prenome VARCHAR(100) NOT NULL,\n",
    "    nomeMeio VARCHAR(100),\n",
    "    sobrenome VARCHAR(100) NOT NULL,\n",
    "    codArea VARCHAR(5) NOT NULL,\n",
    "    celular VARCHAR(10),\n",
    "    fixo VARCHAR(10),\n",
    "    estado VARCHAR(10),\n",
    "    municipio VARCHAR(100)\n",
    "    );\n",
    "\"\"\")\n",
    "conn.close()"
   ]
  },
  {
   "cell_type": "code",
   "execution_count": 11,
   "id": "5c3f7c2c-aa60-4808-b8f7-8a76e7cdc2b9",
   "metadata": {},
   "outputs": [
    {
     "name": "stdout",
     "output_type": "stream",
     "text": [
      "Dados inseridos com sucesso.\n"
     ]
    }
   ],
   "source": [
    "# Create - Inserindo um registro com comando SQL\n",
    "\n",
    "import sqlite3\n",
    "\n",
    "conn = sqlite3.connect('Agenda.db')\n",
    "cursor = conn.cursor()\n",
    "\n",
    "# inserindo dados na tabela\n",
    "cursor.execute(\"\"\"\n",
    "INSERT INTO Contatos_teste (id, prenome, nomeMeio, sobrenome, codArea, celular, fixo, estado, municipio)\n",
    "VALUES (2, 'João', 'da Silva', 'Fontele', '51', '99699-9999', '', 'RS', 'Porto Alegre')\n",
    "\"\"\")\n",
    "\n",
    "# gravando no bd\n",
    "conn.commit()\n",
    "\n",
    "print('Dados inseridos com sucesso.')\n",
    "\n",
    "conn.close()\n"
   ]
  },
  {
   "cell_type": "code",
   "execution_count": 12,
   "id": "99c81798-be1e-4479-9a84-c37f04f64d0e",
   "metadata": {},
   "outputs": [],
   "source": [
    "import sqlite3 as sql\n",
    "def inserir (registro: list) -> object:\n",
    "    conn = sql.connects(\"Agenda.db\")\n",
    "    conn.cursor()\n",
    "    conn.execute(\"\"\"\n",
    "    INSERT INTO contatos values registro;\"\"\")"
   ]
  }
 ],
 "metadata": {
  "kernelspec": {
   "display_name": "Python 3 (ipykernel)",
   "language": "python",
   "name": "python3"
  },
  "language_info": {
   "codemirror_mode": {
    "name": "ipython",
    "version": 3
   },
   "file_extension": ".py",
   "mimetype": "text/x-python",
   "name": "python",
   "nbconvert_exporter": "python",
   "pygments_lexer": "ipython3",
   "version": "3.10.9"
  }
 },
 "nbformat": 4,
 "nbformat_minor": 5
}
